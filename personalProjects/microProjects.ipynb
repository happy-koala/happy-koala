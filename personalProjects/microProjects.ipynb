{
 "cells": [
  {
   "cell_type": "markdown",
   "metadata": {},
   "source": [
    "# Micro Projects\n",
    "\n",
    "<a href=\"#Wördle\">Wördle</a>\n",
    "\n",
    "<hr style=\"margin-top:15px;height:8px;border:0;border-radius:5px;box-shadow:0 10px 15px -10px #111 inset;background-color:rgba(79,170,108,0.7);\">"
   ]
  },
  {
   "cell_type": "markdown",
   "metadata": {},
   "source": [
    "# Wördle\n",
    "A little helper in case one get's stuck at playing [Wördle](https://www.wördle.de) the german version of Wordle. \n",
    "\n",
    "(I do like to play the game and possibly fail. This is just an excercise.)"
   ]
  },
  {
   "cell_type": "code",
   "execution_count": 1,
   "metadata": {
    "scrolled": true
   },
   "outputs": [
    {
     "data": {
      "text/plain": [
       "4"
      ]
     },
     "execution_count": 1,
     "metadata": {},
     "output_type": "execute_result"
    }
   ],
   "source": [
    "'''\n",
    "getting the initial data together and create strings \n",
    "that could be tested as a solution for Wördle\n",
    "'''\n",
    "\n",
    "from itertools import product\n",
    "from string import ascii_lowercase\n",
    "\n",
    "### initial setup with example data \n",
    "alphabet = ascii_lowercase+'ä'+'ö'+'ü'+'ß'\n",
    "false_letters = 'acdfhijkmopqrstuvwxyzäöüß'\n",
    "remaining_letters = [l for l in alphabet if l not in false_letters]\n",
    "known_letters = 'bg'\n",
    "solution = '0a0el'\n",
    "empty_positions = [i for i in range(5) if solution[i] == '0']\n",
    "test_list = []\n",
    "\n",
    "### get all possible combinations according to known infos\n",
    "for i in product(remaining_letters, repeat=len(empty_positions)):\n",
    "    test = [i for i in solution]\n",
    "    empty_copy = empty_positions.copy()\n",
    "    for j in list(i):\n",
    "        test[empty_copy.pop(0)] = j\n",
    "    test_list.append(''.join(test)), test_list.append(''.join(test).capitalize())\n",
    "\n",
    "for i in known_letters:\n",
    "    test_list = [l for l in test_list if i in l.lower()]\n",
    "\n",
    "len(test_list)                      ### just for info"
   ]
  },
  {
   "cell_type": "code",
   "execution_count": 2,
   "metadata": {},
   "outputs": [
    {
     "data": {
      "application/vnd.jupyter.widget-view+json": {
       "model_id": "49897eb4bde6429296609effc6de3d92",
       "version_major": 2,
       "version_minor": 0
      },
      "text/plain": [
       "HBox(children=(IntProgress(value=0, max=4), HTML(value='')))"
      ]
     },
     "metadata": {},
     "output_type": "display_data"
    },
    {
     "name": "stdout",
     "output_type": "stream",
     "text": [
      "\n"
     ]
    },
    {
     "data": {
      "text/plain": [
       "2"
      ]
     },
     "execution_count": 2,
     "metadata": {},
     "output_type": "execute_result"
    }
   ],
   "source": [
    "'''\n",
    "- now check for every string if it is actually a valid word according to dwds.de\n",
    "- using delay if the test_list is too long to not affect dwds.de (and possibly get blocked)\n",
    "'''\n",
    "\n",
    "import requests, json, time\n",
    "from tqdm import tqdm_notebook\n",
    "\n",
    "if len(test_list) <100:\n",
    "    possible_solutions = [json.loads(requests.get(f'https://www.dwds.de/api/wb/snippet/?q={s}').text)[0].get('lemma') for s in tqdm_notebook(test_list) if requests.get(f'https://www.dwds.de/api/wb/snippet/?q={s}').text[1:-1] != '']\n",
    "else:\n",
    "    possible_solutions = []\n",
    "    for i in tqdm_notebook(test_list):\n",
    "        if requests.get(f'https://www.dwds.de/api/wb/snippet/?q={i}').text[1:-1] != '':\n",
    "            s = json.loads(requests.get(f'https://www.dwds.de/api/wb/snippet/?q={i}').text)[0].get('lemma')\n",
    "            possible_solutions.append(s)\n",
    "        time.sleep(.05)\n",
    "\n",
    "len(possible_solutions)             ### just for info"
   ]
  },
  {
   "cell_type": "code",
   "execution_count": 3,
   "metadata": {},
   "outputs": [
    {
     "data": {
      "text/plain": [
       "['Bagel', 'Gabel']"
      ]
     },
     "execution_count": 3,
     "metadata": {},
     "output_type": "execute_result"
    }
   ],
   "source": [
    "possible_solutions"
   ]
  },
  {
   "cell_type": "markdown",
   "metadata": {},
   "source": [
    "<hr style=\"margin-top:15px;height:8px;border:0;border-radius:5px;box-shadow:0 10px 15px -10px #111 inset;background-color:rgba(79,170,108,0.7);\">"
   ]
  }
 ],
 "metadata": {
  "kernelspec": {
   "display_name": "Python 3",
   "language": "python",
   "name": "python3"
  },
  "language_info": {
   "codemirror_mode": {
    "name": "ipython",
    "version": 3
   },
   "file_extension": ".py",
   "mimetype": "text/x-python",
   "name": "python",
   "nbconvert_exporter": "python",
   "pygments_lexer": "ipython3",
   "version": "3.7.4"
  }
 },
 "nbformat": 4,
 "nbformat_minor": 2
}
