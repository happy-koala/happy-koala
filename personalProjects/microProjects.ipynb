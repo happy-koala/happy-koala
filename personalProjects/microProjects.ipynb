{
 "cells": [
  {
   "cell_type": "markdown",
   "metadata": {},
   "source": [
    "# Micro Projects\n",
    "\n",
    "<a href=\"#Wördle\">Wördle</a>\n",
    "\n",
    "<hr style=\"margin-top:15px;height:8px;border:0;border-radius:5px;box-shadow:0 10px 15px -10px #111 inset;background-color:rgba(79,170,108,0.7);\">"
   ]
  },
  {
   "cell_type": "markdown",
   "metadata": {},
   "source": [
    "# Wördle\n",
    "A little helper in case one get's stuck at playing [Wördle](https://www.wördle.de) the german version of Wordle. \n",
    "\n",
    "(I do like to play the game and possibly fail. This is just an excercise.)"
   ]
  },
  {
   "cell_type": "code",
   "execution_count": 1,
   "metadata": {
    "scrolled": true
   },
   "outputs": [
    {
     "data": {
      "text/plain": [
       "50"
      ]
     },
     "execution_count": 1,
     "metadata": {},
     "output_type": "execute_result"
    }
   ],
   "source": [
    "'''\n",
    "getting the initial data together and create strings \n",
    "that could be tested as a solution for Wördle\n",
    "'''\n",
    "\n",
    "from itertools import product\n",
    "from string import ascii_lowercase\n",
    "\n",
    "### initial setup with example data \n",
    "alph = ascii_lowercase+'ä'+'ö'+'ü'+'ß'         ### given alphabet\n",
    "false_letters = 'acdfhijkmopqrstuvwxyzäöüß'    ### already axcluded letters\n",
    "solution = '0a0el'                             ### solution so far\n",
    "empty = [i for i in range(5) if solution[i] == '0'] ### list of empty positions\n",
    "remaining_letters = [l for l in alph if l not in [l for l in false_letters]]\n",
    "test_list = []\n",
    "\n",
    "### get all possible combinations of remaining letters to fill the gaps in the current solution\n",
    "for i in product(remaining_letters, repeat=len(empty)): ### all possible combinations of remaining letters\n",
    "    test = [i for i in solution]  ### converting immutable string to mutable list\n",
    "    empty_pos = empty.copy()\n",
    "    for j in list(i):             ### fill sol with letters\n",
    "        test[empty_pos.pop(0)] = j\n",
    "    test_list.append(''.join(test)), test_list.append(''.join(test).capitalize())\n",
    "    \n",
    "len(test_list)                    ### just for info"
   ]
  },
  {
   "cell_type": "code",
   "execution_count": 2,
   "metadata": {},
   "outputs": [
    {
     "data": {
      "text/plain": [
       "7"
      ]
     },
     "execution_count": 2,
     "metadata": {},
     "output_type": "execute_result"
    }
   ],
   "source": [
    "'''\n",
    "now check for every string if it is \n",
    "actually a valid word according to dwds.de\n",
    "'''\n",
    "\n",
    "import requests, json, time\n",
    "\n",
    "'''better only use list comprehension if the test_list is not too big'''\n",
    "#solutions = [json.loads(requests.get(f'https://www.dwds.de/api/wb/snippet/?q={s}').text)[0].get('lemma') for s in test_list if requests.get(f'https://www.dwds.de/api/wb/snippet/?q={s}').text[1:-1] != '']\n",
    "\n",
    "'''\n",
    "if the test_list is too big, better use this for-loop \n",
    "including time.sleep() for not getting blocked by dwds.de\n",
    "'''\n",
    "possible_solutions = []\n",
    "for i in test_list:\n",
    "    if requests.get(f'https://www.dwds.de/api/wb/snippet/?q={i}').text[1:-1] != '':\n",
    "        s = json.loads(requests.get(f'https://www.dwds.de/api/wb/snippet/?q={i}').text)[0].get('lemma')\n",
    "        possible_solutions.append(s)\n",
    "    time.sleep(.05)\n",
    "\n",
    "len(possible_solutions)             ### just for info"
   ]
  },
  {
   "cell_type": "code",
   "execution_count": 3,
   "metadata": {},
   "outputs": [
    {
     "data": {
      "text/plain": [
       "['Babel', 'Bagel', 'Gabel', 'Label', 'Lagel', 'Nabel', 'Nagel']"
      ]
     },
     "execution_count": 3,
     "metadata": {},
     "output_type": "execute_result"
    }
   ],
   "source": [
    "possible_solutions"
   ]
  },
  {
   "cell_type": "markdown",
   "metadata": {},
   "source": [
    "<hr style=\"margin-top:15px;height:8px;border:0;border-radius:5px;box-shadow:0 10px 15px -10px #111 inset;background-color:rgba(79,170,108,0.7);\">"
   ]
  }
 ],
 "metadata": {
  "kernelspec": {
   "display_name": "Python 3",
   "language": "python",
   "name": "python3"
  },
  "language_info": {
   "codemirror_mode": {
    "name": "ipython",
    "version": 3
   },
   "file_extension": ".py",
   "mimetype": "text/x-python",
   "name": "python",
   "nbconvert_exporter": "python",
   "pygments_lexer": "ipython3",
   "version": "3.7.4"
  }
 },
 "nbformat": 4,
 "nbformat_minor": 2
}
